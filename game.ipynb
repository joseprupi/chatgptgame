{
 "cells": [
  {
   "cell_type": "code",
   "execution_count": 54,
   "metadata": {},
   "outputs": [
    {
     "data": {
      "image/png": "[encoded data removed]",
      "text/plain": [
       "<Figure size 432x288 with 1 Axes>"
      ]
     },
     "metadata": {},
     "output_type": "display_data"
    }
   ],
   "source": [
    "from operator import add\n",
    "from enum import Enum\n",
    "import random\n",
    "\n",
    "import matplotlib.pyplot as plt\n",
    "import numpy as np\n",
    "\n",
    "# Positions are defined as a tuple of two elements: (x,y)\n",
    "# Boards are defined as a tuple of four elements:\n",
    "# - White queen position\n",
    "# - White pawns as as set of positions\n",
    "# - Black queen position\n",
    "# - Black pawns as as set of positions\n",
    "\n",
    "class Turn(Enum):\n",
    "    WHITE = 1\n",
    "    BLACK = 2\n",
    "\n",
    "class Board:\n",
    "    \n",
    "    def __init__(self, verbose=False):\n",
    "        self.white_pawns = set(x for x in [(8,0),(8,1),(8,2),(9,0),(9,1),(9,2),(10,1),(10,2)])\n",
    "        self.white_queen = (10,0)\n",
    "        self.white_queen_shield = set(x for x in [(9,0),(9,1),(10,1)])\n",
    "        self.black_pawns = set(x for x in [(0,8),(0,9),(1,8),(1,9),(1,10),(2,8),(2,9),(2,10)])\n",
    "        self.black_queen = (0,10)\n",
    "        self.black_queen_shield = set(x for x in [(0,1),(1,1),(1,0)])\n",
    "        self.turn = Turn.WHITE\n",
    "        self.verbose = verbose\n",
    "\n",
    "    # def __init__(self, board, turn):\n",
    "    #     self.set_board(board, turn)\n",
    "\n",
    "    @staticmethod\n",
    "    def winning_position(board):\n",
    "        if board[0] == (0,10):\n",
    "            return 1\n",
    "        if board[2] == (10,0):\n",
    "            return -1\n",
    "        return 0\n",
    "    \n",
    "    # @staticmethod\n",
    "    # def draw_board(white_pieces, black_pices):\n",
    "\n",
    "        # Create board and colors\n",
    "        board = np.zeros((11,11,3))\n",
    "        board += 0.5 \n",
    "        board[::2, ::2] = 1 \n",
    "        board[1::2, 1::2] = 1\n",
    "\n",
    "        _, ax = plt.subplots()\n",
    "        ax.imshow(board, interpolation='nearest')\n",
    "\n",
    "        white_queen = white_pieces.pop(0)\n",
    "        ax.text(white_queen[1], white_queen[0], u'\\u2655', size=30, ha='center', va='center')\n",
    "\n",
    "        for y, x in white_pieces:\n",
    "            ax.text(x, y, u'\\u26aa', size=30, ha='center', va='center')\n",
    "\n",
    "        black_queen = black_pices.pop(0)\n",
    "        ax.text(black_queen[1], black_queen[0], u'\\u265b', size=30, ha='center', va='center')\n",
    "\n",
    "        for y, x in black_pices:\n",
    "            ax.text(x, y, u'\\u26ab', size=30, ha='center', va='center')\n",
    "\n",
    "        ax.set(xticks=[], yticks=[])\n",
    "        ax.axis('image')\n",
    "\n",
    "        plt.show()\n",
    "    \n",
    "    @staticmethod\n",
    "    def draw_board(b):\n",
    "\n",
    "        # Create board and colors\n",
    "        board = np.zeros((11,11,3))\n",
    "        board += 0.5 \n",
    "        board[::2, ::2] = 1 \n",
    "        board[1::2, 1::2] = 1\n",
    "\n",
    "        _, ax = plt.subplots()\n",
    "        ax.imshow(board, interpolation='nearest')\n",
    "\n",
    "        white_queen = b[0]\n",
    "        ax.text(white_queen[1], white_queen[0], u'\\u2655', size=30, ha='center', va='center')\n",
    "\n",
    "        for y, x in b[1]:\n",
    "            ax.text(x, y, u'\\u26aa', size=30, ha='center', va='center')\n",
    "\n",
    "        black_queen = b[2]\n",
    "        ax.text(black_queen[1], black_queen[0], u'\\u265b', size=30, ha='center', va='center')\n",
    "\n",
    "        for y, x in b[3]:\n",
    "            ax.text(x, y, u'\\u26ab', size=30, ha='center', va='center')\n",
    "\n",
    "        ax.set(xticks=[], yticks=[])\n",
    "        ax.axis('image')\n",
    "\n",
    "        plt.show()\n",
    "\n",
    "    def set_board(self, board, turn):\n",
    "        self.white_queen = board[0]\n",
    "        self.white_pawns = board[1]\n",
    "        self.white_queen_shield = self.update_queen_shield(self.white_queen)\n",
    "        self.black_queen = board[2]\n",
    "        self.black_pawns = board[3]\n",
    "        self.black_queen_shield = self.update_queen_shield(self.black_queen)\n",
    "        self.turn = turn\n",
    "\n",
    "    def get_board(self):\n",
    "        #return(([self.white_queen] + list(self.white_pawns)),[self.black_queen] + list(self.black_pawns))\n",
    "        return (self.white_queen,self.white_pawns,self.black_queen, self.black_pawns)\n",
    "\n",
    "    def update_queen_shield(self, queen_position):\n",
    "        moves = [(-1,0),(-1,1),(0,1),(1,1),(1,0),(1,-1),(0,-1),(-1,-1)]\n",
    "        return set([ tuple(map(add, move, queen_position)) for move in moves])\n",
    "    \n",
    "    def current_postions(self):\n",
    "        return (self.white_positions, self.black_positions)\n",
    "    \n",
    "    def white_pawn_moves(self, pawn):\n",
    "\n",
    "        moves = []\n",
    "        \n",
    "        if pawn[0] > 0:\n",
    "            moves.append((pawn[0] - 1, pawn[1]))\n",
    "        if pawn[1] < 10:\n",
    "            moves.append((pawn[0], pawn[1] + 1))\n",
    "            \n",
    "        return moves\n",
    "    \n",
    "    def black_pawn_moves(self, pawn):\n",
    "        \n",
    "        moves = []\n",
    "        \n",
    "        if pawn[0] < 10:\n",
    "            moves.append((pawn[0] + 1, pawn[1]))\n",
    "        if pawn[1] > 0:\n",
    "            moves.append((pawn[0], pawn[1] - 1))\n",
    "            \n",
    "        return moves\n",
    "    \n",
    "    def pawn_moves(self, pawn, turn):\n",
    "\n",
    "        moves = []\n",
    "\n",
    "        if turn == Turn.WHITE:\n",
    "            if pawn[0] > 0:\n",
    "                moves.append((pawn[0] - 1, pawn[1]))\n",
    "            if pawn[1] < 10:\n",
    "                moves.append((pawn[0], pawn[1] + 1))\n",
    "        else:\n",
    "            if pawn[0] < 10:\n",
    "                moves.append((pawn[0] + 1, pawn[1]))\n",
    "            if pawn[1] > 0:\n",
    "                moves.append((pawn[0], pawn[1] - 1))\n",
    "\n",
    "        return moves\n",
    "\n",
    "    def queen_moves(self, board, turn):\n",
    "\n",
    "        boards = []\n",
    "\n",
    "        white_queen = board[0]\n",
    "        white_pawns = board[1]\n",
    "        white_queen_shield = self.update_queen_shield(white_queen)\n",
    "        black_queen = board[2]\n",
    "        black_pawns = board[3]\n",
    "        black_queen_shield = self.update_queen_shield(black_queen)\n",
    "\n",
    "        if turn == Turn.WHITE:\n",
    "            queen = white_queen\n",
    "            your_pawns = white_pawns\n",
    "            oponent_pawns = black_pawns\n",
    "            directions = [(-1,0),(0,1)]\n",
    "            #queen_shield = white_queen_shield\n",
    "            opponent_queen_shield = black_queen_shield\n",
    "        else:\n",
    "            queen = black_queen        \n",
    "            your_pawns = black_pawns\n",
    "            oponent_pawns = white_pawns\n",
    "            directions = [(1,0),(0,-1)]\n",
    "            #queen_shield = black_queen_shield\n",
    "            opponent_queen_shield = white_queen_shield\n",
    "\n",
    "        for direction in directions:\n",
    "            \n",
    "            x_move = direction[0] + queen[0]\n",
    "            y_move = direction[1] + queen[1]\n",
    "\n",
    "            while (x_move,y_move) in your_pawns:\n",
    "\n",
    "                x_move = direction[0] + x_move\n",
    "                y_move = direction[1] + y_move\n",
    "\n",
    "            queen_shield = self.update_queen_shield((x_move, y_move))\n",
    "\n",
    "            if  0 <= x_move <= 10 and \\\n",
    "                0 <= y_move <= 10 and \\\n",
    "                len(queen_shield.intersection(oponent_pawns)) == 0 and \\\n",
    "                len(queen_shield.intersection(opponent_queen_shield)) == 0:\n",
    "                    if turn == Turn.WHITE:\n",
    "                        boards.append(((x_move,y_move),white_pawns,black_queen,black_pawns))\n",
    "                    else:\n",
    "                        boards.append((white_queen,white_pawns,(x_move,y_move),black_pawns))\n",
    "\n",
    "        return boards\n",
    "    \n",
    "    def next_boards(self, board, turn):\n",
    "        \n",
    "        boards = []\n",
    "        \n",
    "        white_queen = board[0]\n",
    "        white_pawns = board[1]\n",
    "        white_queen_shield = self.update_queen_shield(white_queen)\n",
    "        black_queen = board[2]\n",
    "        black_pawns = board[3]\n",
    "        black_queen_shield = self.update_queen_shield(black_queen)\n",
    "        \n",
    "        if turn == Turn.WHITE:\n",
    "            # Pawns move\n",
    "            for pawn in white_pawns:    \n",
    "                pawn_moves = self.white_pawn_moves(pawn)\n",
    "                for pawn_move in pawn_moves:\n",
    "                    if  pawn_move != (0,10) and \\\n",
    "                        pawn_move not in white_pawns and \\\n",
    "                        pawn_move != white_queen and \\\n",
    "                        pawn_move not in black_queen_shield:\n",
    "                            \n",
    "                            new_white_pawns = white_pawns.copy()\n",
    "                            new_black_pawns = black_pawns.copy() \n",
    "                            \n",
    "                            if pawn_move in black_pawns:\n",
    "                                # Remove the killed black pawn if exists\n",
    "                                new_black_pawns.remove(pawn_move)\n",
    "                                #new_black_pawns = black_pawns.copy()\n",
    "\n",
    "                            # Move the white pawn\n",
    "                            new_white_pawns.remove(pawn)\n",
    "                            new_white_pawns.add(pawn_move)\n",
    "                    \n",
    "                            boards.append((white_queen,new_white_pawns,black_queen,new_black_pawns))\n",
    "        else:\n",
    "            for pawn in black_pawns:    \n",
    "                pawn_moves = self.black_pawn_moves(pawn)\n",
    "                for pawn_move in pawn_moves:\n",
    "                    if  pawn_move != (10,0) and \\\n",
    "                        pawn_move not in black_pawns and \\\n",
    "                        pawn_move != black_queen and \\\n",
    "                        pawn_move not in white_queen_shield:\n",
    "                            \n",
    "                            new_black_pawns = black_pawns.copy()\n",
    "                            new_white_pawns = white_pawns.copy() \n",
    "                            \n",
    "                            if pawn_move in white_pawns:\n",
    "                                # Remove the killed white pawn if exists\n",
    "                                new_white_pawns.remove(pawn_move)\n",
    "                                #new_white_pawns = white_pawns.copy()\n",
    "\n",
    "                            # Move the black pawn\n",
    "                            new_black_pawns.remove(pawn)\n",
    "                            new_black_pawns.add(pawn_move)\n",
    "                    \n",
    "                            boards.append((white_queen,new_white_pawns,black_queen,new_black_pawns))\n",
    "        \n",
    "        boards = boards + self.queen_moves(board, turn)\n",
    "        return boards\n",
    "    \n",
    "    def simulate(self, board, turn):\n",
    "\n",
    "        #board = self.get_board()\n",
    "        #turn = self.turn\n",
    "    \n",
    "        while (result := Board.winning_position(board)) == 0:\n",
    "\n",
    "            next_moves = self.next_boards(board, turn)\n",
    "            if len(next_moves) == 0:\n",
    "                return 0\n",
    "            \n",
    "            if self.verbose:\n",
    "                print(turn)\n",
    "\n",
    "            turn = Turn.BLACK if turn == Turn.WHITE else Turn.WHITE\n",
    "            board = random.choice(next_moves)\n",
    "            if self.verbose:\n",
    "                print(board)\n",
    "                Board.draw_board(board)\n",
    "\n",
    "        return result \n",
    "        \n",
    "white_positions = [(10,0),(8,0),(8,1),(8,2),(9,0),(9,1),(9,2),(10,1),(10,2)]\n",
    "black_positions = [(0,10),(0,8),(0,9),(1,8),(1,9),(1,10),(2,8),(2,9),(2,10)]\n",
    "\n",
    "white_queen = (10,0)\n",
    "white_pawns = frozenset([(8,0),(8,1),(8,2),(9,0),(9,1),(9,2),(10,1),(10,2)])\n",
    "black_queen = (0,10)\n",
    "black_pawns = frozenset([(0,8),(0,9),(1,8),(1,9),(1,10),(2,8),(2,9),(2,10)])\n",
    "\n",
    "board = (white_queen, white_pawns, black_queen, black_pawns)\n",
    "\n",
    "Board.draw_board(board)\n",
    "         \n"
   ]
  },
  {
   "cell_type": "code",
   "execution_count": 92,
   "metadata": {},
   "outputs": [
    {
     "data": {
      "text/plain": [
       "-1"
      ]
     },
     "execution_count": 92,
     "metadata": {},
     "output_type": "execute_result"
    }
   ],
   "source": [
    "# board = ((8, 7), {(7, 4), (4, 0), (7, 1), (9, 3), (3, 1), (4, 6), (8, 3), (6, 0)}, (2, 5), {(0, 7), (3, 8), (3, 4), (2, 7), (4, 9), (6, 8), (6, 6), (4, 7)})\n",
    "\n",
    "b = Board(verbose=False)\n",
    "b.simulate(b.get_board(), Turn.WHITE)"
   ]
  },
  {
   "cell_type": "code",
   "execution_count": 15,
   "metadata": {},
   "outputs": [],
   "source": [
    "from collections import defaultdict\n",
    "\n",
    "# class mcts:\n",
    "    \n",
    "#     def __init__(self):\n",
    "#         self.children = defaultdict(list)\n",
    "#         self.Q = defaultdict(int)\n",
    "#         self.N = defaultdict(int)\n",
    "\n",
    "#     def isLeaf(self, node):\n",
    "#         return not node in self.children\n",
    "    \n",
    "#     def selection(self, node):\n",
    "#         if self.isLeaf(node):\n",
    "#             result = self.board.simulate()\n",
    "#             next_boards = self.board.\n",
    "\n",
    "#         else:\n",
    "#             return node\n",
    "    \n",
    "#     def simulation(self, node):\n",
    "\n",
    "\n",
    "#     def expansion(self, node):\n",
    "#         self.children[node.get_board()] = node.next_boards()\n",
    "\n",
    "#     def simulation(self, node):\n",
    "        \n",
    "\n",
    "\n",
    "#     # def best_move(board, turn):\n",
    "        "
   ]
  },
  {
   "cell_type": "code",
   "execution_count": 20,
   "metadata": {},
   "outputs": [],
   "source": [
    "# b = Board()\n",
    "# board = b.get_board()\n",
    "# Board.draw_board(board)\n",
    "\n",
    "# new_boards = b.next_boards(board, Turn.BLACK)\n",
    "\n",
    "# for nb in new_boards:\n",
    "#     Board.draw_board(nb)\n"
   ]
  },
  {
   "cell_type": "code",
   "execution_count": 13,
   "metadata": {},
   "outputs": [
    {
     "data": {
      "text/plain": [
       "((10, 0),\n",
       " {(8, 0), (8, 1), (8, 2), (9, 0), (9, 1), (9, 2), (10, 1), (10, 2)},\n",
       " (0, 10),\n",
       " {(0, 8), (0, 9), (1, 8), (1, 9), (1, 10), (2, 8), (2, 9), (2, 10)})"
      ]
     },
     "execution_count": 13,
     "metadata": {},
     "output_type": "execute_result"
    }
   ],
   "source": [
    "board"
   ]
  },
  {
   "cell_type": "code",
   "execution_count": 50,
   "metadata": {},
   "outputs": [
    {
     "data": {
      "image/png": "[encoded data removed]",
      "text/plain": [
       "<Figure size 432x288 with 1 Axes>"
      ]
     },
     "metadata": {},
     "output_type": "display_data"
    },
    {
     "data": {
      "image/png": "[encoded data removed]",
      "text/plain": [
       "<Figure size 432x288 with 1 Axes>"
      ]
     },
     "metadata": {},
     "output_type": "display_data"
    },
    {
     "data": {
      "image/png": "[encoded data removed]",
      "text/plain": [
       "<Figure size 432x288 with 1 Axes>"
      ]
     },
     "metadata": {},
     "output_type": "display_data"
    },
    {
     "data": {
      "image/png": "[encoded data removed]",
      "text/plain": [
       "<Figure size 432x288 with 1 Axes>"
      ]
     },
     "metadata": {},
     "output_type": "display_data"
    },
    {
     "data": {
      "image/png": "[encoded data removed]",
      "text/plain": [
       "<Figure size 432x288 with 1 Axes>"
      ]
     },
     "metadata": {},
     "output_type": "display_data"
    },
    {
     "data": {
      "image/png": "[encoded data removed]",
      "text/plain": [
       "<Figure size 432x288 with 1 Axes>"
      ]
     },
     "metadata": {},
     "output_type": "display_data"
    }
   ],
   "source": [
    "b = Board(verbose=True)\n",
    "\n",
    "board = ((7, 6), {(4, 3), (4, 2)}, (2, 0), {(2, 3), (3, 3), (5, 3)})\n",
    "Board.draw_board(board)\n",
    "\n",
    "new_boards = b.next_boards(board, Turn.WHITE)\n",
    "\n",
    "for nb in new_boards:\n",
    "    Board.draw_board(nb)"
   ]
  },
  {
   "cell_type": "code",
   "execution_count": 5,
   "metadata": {},
   "outputs": [
    {
     "ename": "TypeError",
     "evalue": "set_board() takes 3 positional arguments but 4 were given",
     "output_type": "error",
     "traceback": [
      "\u001b[0;31m---------------------------------------------------------------------------\u001b[0m",
      "\u001b[0;31mTypeError\u001b[0m                                 Traceback (most recent call last)",
      "\u001b[0;32m/tmp/ipykernel_15726/3523688567.py\u001b[0m in \u001b[0;36m<module>\u001b[0;34m\u001b[0m\n\u001b[0;32m----> 1\u001b[0;31m b.set_board(\n\u001b[0m\u001b[1;32m      2\u001b[0m     \u001b[0;34m(\u001b[0m\u001b[0;34m(\u001b[0m\u001b[0;36m10\u001b[0m\u001b[0;34m,\u001b[0m \u001b[0;36m0\u001b[0m\u001b[0;34m)\u001b[0m\u001b[0;34m,\u001b[0m \u001b[0;34m{\u001b[0m\u001b[0;34m(\u001b[0m\u001b[0;36m9\u001b[0m\u001b[0;34m,\u001b[0m \u001b[0;36m0\u001b[0m\u001b[0;34m)\u001b[0m\u001b[0;34m,\u001b[0m \u001b[0;34m(\u001b[0m\u001b[0;36m8\u001b[0m\u001b[0;34m,\u001b[0m \u001b[0;36m1\u001b[0m\u001b[0;34m)\u001b[0m\u001b[0;34m,\u001b[0m \u001b[0;34m(\u001b[0m\u001b[0;36m10\u001b[0m\u001b[0;34m,\u001b[0m \u001b[0;36m1\u001b[0m\u001b[0;34m)\u001b[0m\u001b[0;34m,\u001b[0m \u001b[0;34m(\u001b[0m\u001b[0;36m3\u001b[0m\u001b[0;34m,\u001b[0m \u001b[0;36m10\u001b[0m\u001b[0;34m)\u001b[0m\u001b[0;34m,\u001b[0m \u001b[0;34m(\u001b[0m\u001b[0;36m8\u001b[0m\u001b[0;34m,\u001b[0m \u001b[0;36m0\u001b[0m\u001b[0;34m)\u001b[0m\u001b[0;34m,\u001b[0m \u001b[0;34m(\u001b[0m\u001b[0;36m8\u001b[0m\u001b[0;34m,\u001b[0m \u001b[0;36m2\u001b[0m\u001b[0;34m)\u001b[0m\u001b[0;34m,\u001b[0m \u001b[0;34m(\u001b[0m\u001b[0;36m9\u001b[0m\u001b[0;34m,\u001b[0m \u001b[0;36m1\u001b[0m\u001b[0;34m)\u001b[0m\u001b[0;34m,\u001b[0m \u001b[0;34m(\u001b[0m\u001b[0;36m10\u001b[0m\u001b[0;34m,\u001b[0m \u001b[0;36m2\u001b[0m\u001b[0;34m)\u001b[0m\u001b[0;34m}\u001b[0m\u001b[0;34m)\u001b[0m\u001b[0;34m,\u001b[0m \u001b[0;34m(\u001b[0m\u001b[0;34m(\u001b[0m\u001b[0;36m0\u001b[0m\u001b[0;34m,\u001b[0m \u001b[0;36m10\u001b[0m\u001b[0;34m)\u001b[0m\u001b[0;34m,\u001b[0m \u001b[0;34m{\u001b[0m\u001b[0;34m(\u001b[0m\u001b[0;36m2\u001b[0m\u001b[0;34m,\u001b[0m \u001b[0;36m10\u001b[0m\u001b[0;34m)\u001b[0m\u001b[0;34m,\u001b[0m \u001b[0;34m(\u001b[0m\u001b[0;36m3\u001b[0m\u001b[0;34m,\u001b[0m \u001b[0;36m8\u001b[0m\u001b[0;34m)\u001b[0m\u001b[0;34m,\u001b[0m \u001b[0;34m(\u001b[0m\u001b[0;36m0\u001b[0m\u001b[0;34m,\u001b[0m \u001b[0;36m9\u001b[0m\u001b[0;34m)\u001b[0m\u001b[0;34m,\u001b[0m \u001b[0;34m(\u001b[0m\u001b[0;36m0\u001b[0m\u001b[0;34m,\u001b[0m \u001b[0;36m8\u001b[0m\u001b[0;34m)\u001b[0m\u001b[0;34m,\u001b[0m \u001b[0;34m(\u001b[0m\u001b[0;36m1\u001b[0m\u001b[0;34m,\u001b[0m \u001b[0;36m9\u001b[0m\u001b[0;34m)\u001b[0m\u001b[0;34m,\u001b[0m \u001b[0;34m(\u001b[0m\u001b[0;36m2\u001b[0m\u001b[0;34m,\u001b[0m \u001b[0;36m8\u001b[0m\u001b[0;34m)\u001b[0m\u001b[0;34m}\u001b[0m\u001b[0;34m)\u001b[0m\u001b[0;34m,\u001b[0m\u001b[0;34m\u001b[0m\u001b[0;34m\u001b[0m\u001b[0m\n\u001b[1;32m      3\u001b[0m     Turn.BLACK)\n\u001b[1;32m      4\u001b[0m \u001b[0;34m\u001b[0m\u001b[0m\n\u001b[1;32m      5\u001b[0m \u001b[0mwhite_pieces\u001b[0m\u001b[0;34m,\u001b[0m \u001b[0mblack_pieces\u001b[0m \u001b[0;34m=\u001b[0m \u001b[0mb\u001b[0m\u001b[0;34m.\u001b[0m\u001b[0mget_board\u001b[0m\u001b[0;34m(\u001b[0m\u001b[0;34m)\u001b[0m\u001b[0;34m\u001b[0m\u001b[0;34m\u001b[0m\u001b[0m\n",
      "\u001b[0;31mTypeError\u001b[0m: set_board() takes 3 positional arguments but 4 were given"
     ]
    }
   ],
   "source": [
    "b.set_board(\n",
    "    ((10, 0), {(9, 0), (8, 1), (10, 1), (3, 10), (8, 0), (8, 2), (9, 1), (10, 2)}), ((0, 10), {(2, 10), (3, 8), (0, 9), (0, 8), (1, 9), (2, 8)}), \n",
    "    Turn.BLACK)\n",
    "\n",
    "white_pieces, black_pieces = b.get_board()\n",
    "board.draw_board([white_pieces[0]] + list(white_pieces[1]), [black_pieces[0]] + list(black_pieces[1]))\n",
    "\n",
    "new_boards = b.next_boards()\n",
    "\n",
    "for b in new_boards:\n",
    "    board.draw_board([b[0]] + list(b[1]), [b[2]] + list(b[3]))"
   ]
  },
  {
   "cell_type": "code",
   "execution_count": null,
   "metadata": {},
   "outputs": [
    {
     "name": "stdout",
     "output_type": "stream",
     "text": [
      "(0, 10)\n"
     ]
    },
    {
     "data": {
      "image/png": "[encoded data removed]",
      "text/plain": [
       "<Figure size 432x288 with 1 Axes>"
      ]
     },
     "metadata": {},
     "output_type": "display_data"
    }
   ],
   "source": [
    "b = board()\n",
    "pieces = b.get_board()\n",
    "board.draw_board(pieces[0], pieces[1])\n",
    "b.set_board(pieces[0], pieces[1], Turn.WHITE)\n",
    "print(b.next_boards())"
   ]
  },
  {
   "cell_type": "code",
   "execution_count": 15,
   "metadata": {},
   "outputs": [],
   "source": [
    "from dataclasses import dataclass\n",
    "\n",
    "@dataclass(frozen=True, eq=True)        \n",
    "class Transaction:\n",
    "    __slots__ = ['sender', 'receiver']\n",
    "    sender: int\n",
    "    receiver: int"
   ]
  },
  {
   "cell_type": "code",
   "execution_count": 16,
   "metadata": {},
   "outputs": [
    {
     "name": "stdout",
     "output_type": "stream",
     "text": [
      "Transaction(sender=1, receiver=2)\n"
     ]
    }
   ],
   "source": [
    "r = Transaction(1,2)\n",
    "print(r)"
   ]
  },
  {
   "cell_type": "code",
   "execution_count": 17,
   "metadata": {},
   "outputs": [],
   "source": [
    "d = dict()\n",
    "d[r] = 2"
   ]
  },
  {
   "cell_type": "code",
   "execution_count": 13,
   "metadata": {},
   "outputs": [
    {
     "ename": "TypeError",
     "evalue": "unhashable type: 'set'",
     "output_type": "error",
     "traceback": [
      "\u001b[0;31m---------------------------------------------------------------------------\u001b[0m",
      "\u001b[0;31mTypeError\u001b[0m                                 Traceback (most recent call last)",
      "\u001b[0;32m/tmp/ipykernel_30057/3087105477.py\u001b[0m in \u001b[0;36m<module>\u001b[0;34m\u001b[0m\n\u001b[1;32m      1\u001b[0m \u001b[0ms\u001b[0m \u001b[0;34m=\u001b[0m \u001b[0mset\u001b[0m\u001b[0;34m(\u001b[0m\u001b[0;34m[\u001b[0m\u001b[0;36m1\u001b[0m\u001b[0;34m,\u001b[0m\u001b[0;36m2\u001b[0m\u001b[0;34m,\u001b[0m\u001b[0;36m3\u001b[0m\u001b[0;34m]\u001b[0m\u001b[0;34m)\u001b[0m\u001b[0;34m\u001b[0m\u001b[0;34m\u001b[0m\u001b[0m\n\u001b[1;32m      2\u001b[0m \u001b[0mt\u001b[0m \u001b[0;34m=\u001b[0m \u001b[0;34m(\u001b[0m\u001b[0ms\u001b[0m\u001b[0;34m,\u001b[0m\u001b[0;34m(\u001b[0m\u001b[0;36m1\u001b[0m\u001b[0;34m,\u001b[0m\u001b[0;36m2\u001b[0m\u001b[0;34m)\u001b[0m\u001b[0;34m)\u001b[0m\u001b[0;34m\u001b[0m\u001b[0;34m\u001b[0m\u001b[0m\n\u001b[0;32m----> 3\u001b[0;31m \u001b[0md\u001b[0m \u001b[0;34m=\u001b[0m \u001b[0;34m{\u001b[0m\u001b[0mt\u001b[0m\u001b[0;34m:\u001b[0m\u001b[0;36m1\u001b[0m\u001b[0;34m}\u001b[0m\u001b[0;34m\u001b[0m\u001b[0;34m\u001b[0m\u001b[0m\n\u001b[0m\u001b[1;32m      4\u001b[0m \u001b[0;34m\u001b[0m\u001b[0m\n\u001b[1;32m      5\u001b[0m \u001b[0mprint\u001b[0m\u001b[0;34m(\u001b[0m\u001b[0md\u001b[0m\u001b[0;34m)\u001b[0m\u001b[0;34m\u001b[0m\u001b[0;34m\u001b[0m\u001b[0m\n",
      "\u001b[0;31mTypeError\u001b[0m: unhashable type: 'set'"
     ]
    }
   ],
   "source": [
    "s = set([1,2,3])\n",
    "t = (s,(1,2))\n",
    "d = {t:1}\n",
    "\n",
    "print(d)\n",
    "\n",
    "s = frozenset([1,2,4])\n",
    "\n",
    "print(d)\n",
    "\n",
    "t = (s,(1,3))\n",
    "\n",
    "print(d)\n",
    "\n",
    "d = {t:1}\n",
    "\n",
    "print(d)"
   ]
  },
  {
   "cell_type": "code",
   "execution_count": null,
   "metadata": {},
   "outputs": [],
   "source": []
  }
 ],
 "metadata": {
  "kernelspec": {
   "display_name": "Python 3",
   "language": "python",
   "name": "python3"
  },
  "language_info": {
   "codemirror_mode": {
    "name": "ipython",
    "version": 3
   },
   "file_extension": ".py",
   "mimetype": "text/x-python",
   "name": "python",
   "nbconvert_exporter": "python",
   "pygments_lexer": "ipython3",
   "version": "3.9.2"
  },
  "vscode": {
   "interpreter": {
    "hash": "31f2aee4e71d21fbe5cf8b01ff0e069b9275f58929596ceb00d14d90e3e16cd6"
   }
  }
 },
 "nbformat": 4,
 "nbformat_minor": 4
}
