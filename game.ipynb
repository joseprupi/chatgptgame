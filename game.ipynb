{
 "cells": [
  {
   "cell_type": "code",
   "execution_count": 1,
   "metadata": {},
   "outputs": [
    {
     "name": "stdout",
     "output_type": "stream",
     "text": [
      "((7, 0), frozenset({(6, 2), (7, 1), (6, 1), (5, 1), (5, 0), (7, 2), (6, 0), (5, 2)}), (0, 7), frozenset({(2, 7), (1, 5), (0, 6), (1, 7), (2, 6), (0, 5), (1, 6), (2, 5)}), <Turn.WHITE: 1>)\n",
      "Turn.WHITE\n"
     ]
    },
    {
     "data": {
      "image/png": "[encoded data removed]",
      "text/plain": [
       "<Figure size 432x288 with 1 Axes>"
      ]
     },
     "metadata": {},
     "output_type": "display_data"
    }
   ],
   "source": [
    "from operator import add\n",
    "from enum import Enum\n",
    "import random\n",
    "import math\n",
    "\n",
    "import matplotlib.pyplot as plt\n",
    "import numpy as np\n",
    "\n",
    "# Positions are defined as a tuple of two elements: (x,y)\n",
    "# Boards are defined as a tuple of four elements:\n",
    "# - White queen position\n",
    "# - White pawns as as set of positions\n",
    "# - Black queen position\n",
    "# - Black pawns as as set of positions\n",
    "\n",
    "class Turn(Enum):\n",
    "    WHITE = 1\n",
    "    BLACK = 2\n",
    "\n",
    "class Board:\n",
    "    \n",
    "    def __init__(self):\n",
    "        self.white_pawns = frozenset(x for x in [(5,0),(5,1),(5,2),(6,0),(6,1),(6,2),(7,1),(7,2)])\n",
    "        self.white_queen = (7,0)\n",
    "        self.white_queen_shield = set(x for x in [(6,0),(6,1),(7,1)])\n",
    "        self.black_pawns = frozenset(x for x in [(0,5),(0,6),(1,5),(1,6),(1,7),(2,5),(2,6),(2,7)])\n",
    "        self.black_queen = (0,7)\n",
    "        self.black_queen_shield = set(x for x in [(0,1),(1,1),(1,0)])\n",
    "        self.turn = Turn.WHITE\n",
    "\n",
    "    @staticmethod\n",
    "    def winning_position(board):\n",
    "        if board[0] == (0,7):\n",
    "            return (1,0)\n",
    "        if board[2] == (7,0):\n",
    "            return (0,1)\n",
    "        return (0,0)\n",
    "    \n",
    "    @staticmethod\n",
    "    def draw_board(b):\n",
    "\n",
    "        # Create board and colors\n",
    "        board = np.zeros((8,8,3))\n",
    "        board += 0.5 \n",
    "        board[::2, ::2] = 1 \n",
    "        board[1::2, 1::2] = 1\n",
    "\n",
    "        _, ax = plt.subplots()\n",
    "        ax.imshow(board, interpolation='nearest')\n",
    "\n",
    "        white_queen = b[0]\n",
    "        ax.text(white_queen[1], white_queen[0], u'\\u2655', size=30, ha='center', va='center')\n",
    "\n",
    "        for y, x in b[1]:\n",
    "            ax.text(x, y, u'\\u26aa', size=30, ha='center', va='center')\n",
    "\n",
    "        black_queen = b[2]\n",
    "        ax.text(black_queen[1], black_queen[0], u'\\u265b', size=30, ha='center', va='center')\n",
    "\n",
    "        for y, x in b[3]:\n",
    "            ax.text(x, y, u'\\u26ab', size=30, ha='center', va='center')\n",
    "\n",
    "        ax.set(xticks=[], yticks=[])\n",
    "        ax.axis('image')\n",
    "\n",
    "        print(b)\n",
    "        print(b[4])\n",
    "\n",
    "        plt.show()\n",
    "\n",
    "    def get_board(self):\n",
    "        return (self.white_queen,self.white_pawns,self.black_queen, self.black_pawns, self.turn)\n",
    "\n",
    "    def update_queen_shield(self, queen_position):\n",
    "        moves = [(-1,0),(-1,1),(0,1),(1,1),(1,0),(1,-1),(0,-1),(-1,-1)]\n",
    "        return set([ tuple(map(add, move, queen_position)) for move in moves])\n",
    "    \n",
    "    def current_positions(self):\n",
    "        return (self.white_positions, self.black_positions)\n",
    "    \n",
    "    def white_pawn_moves(self, pawn):\n",
    "\n",
    "        moves = []\n",
    "        \n",
    "        if pawn[0] > 0:\n",
    "            moves.append((pawn[0] - 1, pawn[1]))\n",
    "        if pawn[1] < 7:\n",
    "            moves.append((pawn[0], pawn[1] + 1))\n",
    "            \n",
    "        return moves\n",
    "    \n",
    "    def black_pawn_moves(self, pawn):\n",
    "        \n",
    "        moves = []\n",
    "        \n",
    "        if pawn[0] < 7:\n",
    "            moves.append((pawn[0] + 1, pawn[1]))\n",
    "        if pawn[1] > 0:\n",
    "            moves.append((pawn[0], pawn[1] - 1))\n",
    "            \n",
    "        return moves\n",
    "    \n",
    "    def pawn_moves(self, pawn, turn):\n",
    "\n",
    "        moves = []\n",
    "\n",
    "        if turn == Turn.WHITE:\n",
    "            if pawn[0] > 0:\n",
    "                moves.append((pawn[0] - 1, pawn[1]))\n",
    "            if pawn[1] < 7:\n",
    "                moves.append((pawn[0], pawn[1] + 1))\n",
    "        else:\n",
    "            if pawn[0] < 7:\n",
    "                moves.append((pawn[0] + 1, pawn[1]))\n",
    "            if pawn[1] > 0:\n",
    "                moves.append((pawn[0], pawn[1] - 1))\n",
    "\n",
    "        return moves\n",
    "\n",
    "    def queen_moves(self, board):\n",
    "\n",
    "        boards = []\n",
    "\n",
    "        white_queen = board[0]\n",
    "        white_pawns = board[1]\n",
    "        white_queen_shield = self.update_queen_shield(white_queen)\n",
    "        black_queen = board[2]\n",
    "        black_pawns = board[3]\n",
    "        black_queen_shield = self.update_queen_shield(black_queen)\n",
    "        turn = board[4]\n",
    "\n",
    "        newturn = Turn.BLACK if board[4] == Turn.WHITE else Turn.WHITE\n",
    "\n",
    "        if turn == Turn.WHITE:\n",
    "            queen = white_queen\n",
    "            your_pawns = white_pawns\n",
    "            opponent_pawns = black_pawns\n",
    "            directions = [(-1,0),(0,1)]\n",
    "            opponent_queen_shield = black_queen_shield\n",
    "        else:\n",
    "            queen = black_queen        \n",
    "            your_pawns = black_pawns\n",
    "            opponent_pawns = white_pawns\n",
    "            directions = [(1,0),(0,-1)]\n",
    "            opponent_queen_shield = white_queen_shield\n",
    "\n",
    "        for direction in directions:\n",
    "            \n",
    "            x_move = direction[0] + queen[0]\n",
    "            y_move = direction[1] + queen[1]\n",
    "\n",
    "            while (x_move,y_move) in your_pawns:\n",
    "\n",
    "                x_move = direction[0] + x_move\n",
    "                y_move = direction[1] + y_move\n",
    "\n",
    "            queen_shield = self.update_queen_shield((x_move, y_move))\n",
    "\n",
    "            if  0 <= x_move <= 7 and \\\n",
    "                0 <= y_move <= 7 and \\\n",
    "                (x_move, y_move) not in opponent_pawns and \\\n",
    "                len(queen_shield.intersection(opponent_pawns)) == 0 and \\\n",
    "                len(queen_shield.intersection(opponent_queen_shield)) == 0:\n",
    "                    if turn == Turn.WHITE:\n",
    "                        boards.append(((x_move,y_move),white_pawns,black_queen,black_pawns, newturn))\n",
    "                    else:\n",
    "                        boards.append((white_queen,white_pawns,(x_move,y_move),black_pawns, newturn))\n",
    "\n",
    "        return boards\n",
    "    \n",
    "    def next_boards(self, board):\n",
    "        \n",
    "        boards = []\n",
    "        \n",
    "        white_queen = board[0]\n",
    "        white_pawns = board[1]\n",
    "        white_queen_shield = self.update_queen_shield(white_queen)\n",
    "        black_queen = board[2]\n",
    "        black_pawns = board[3]\n",
    "        black_queen_shield = self.update_queen_shield(black_queen)\n",
    "        turn = board[4]\n",
    "        \n",
    "        newturn = Turn.BLACK if board[4] == Turn.WHITE else Turn.WHITE\n",
    "        \n",
    "        if turn == Turn.WHITE:\n",
    "            for pawn in white_pawns:    \n",
    "                pawn_moves = self.white_pawn_moves(pawn)\n",
    "                for pawn_move in pawn_moves:\n",
    "                    if  pawn_move != (0,7) and \\\n",
    "                        pawn_move not in white_pawns and \\\n",
    "                        pawn_move != white_queen and \\\n",
    "                        pawn_move not in black_queen_shield:\n",
    "                            \n",
    "                            new_white_pawns = white_pawns.copy()\n",
    "                            new_black_pawns = black_pawns.copy() \n",
    "                            \n",
    "                            if pawn_move in black_pawns:\n",
    "                                tmp_list = list(new_black_pawns)\n",
    "                                if pawn_move in tmp_list: tmp_list.remove(pawn_move)\n",
    "                                new_black_pawns = frozenset(tmp_list)\n",
    "                            \n",
    "                            tmp_list = list(new_white_pawns)\n",
    "                            tmp_list.remove(pawn)\n",
    "                            tmp_list.append(pawn_move)\n",
    "                            new_white_pawns = frozenset(tmp_list)\n",
    "                    \n",
    "                            boards.append((white_queen,new_white_pawns,black_queen,new_black_pawns,newturn))\n",
    "        else:\n",
    "            for pawn in black_pawns:    \n",
    "                pawn_moves = self.black_pawn_moves(pawn)\n",
    "                for pawn_move in pawn_moves:\n",
    "                    if  pawn_move != (7,0) and \\\n",
    "                        pawn_move not in black_pawns and \\\n",
    "                        pawn_move != black_queen and \\\n",
    "                        pawn_move not in white_queen_shield:\n",
    "                            \n",
    "                            new_black_pawns = black_pawns.copy()\n",
    "                            new_white_pawns = white_pawns.copy() \n",
    "                            \n",
    "                            if pawn_move in white_pawns:\n",
    "                                tmp_list = list(new_white_pawns)\n",
    "                                if pawn_move in tmp_list: tmp_list.remove(pawn_move)\n",
    "                                new_white_pawns = frozenset(tmp_list)\n",
    "                            \n",
    "                            tmp_list = list(new_black_pawns)\n",
    "                            tmp_list.remove(pawn)\n",
    "                            tmp_list.append(pawn_move)\n",
    "                            new_black_pawns = frozenset(tmp_list)\n",
    "                    \n",
    "                            boards.append((white_queen,new_white_pawns,black_queen,new_black_pawns,newturn))\n",
    "        \n",
    "        boards = boards + self.queen_moves(board)\n",
    "        return boards\n",
    "    \n",
    "    def simulate(self, board):\n",
    "\n",
    "        while (result := Board.winning_position(board)) == (0,0):\n",
    "\n",
    "            next_moves = self.next_boards(board)\n",
    "            \n",
    "            if len(next_moves) == 0:\n",
    "                return (0,0)\n",
    "\n",
    "            board = random.choice(next_moves)\n",
    "\n",
    "        return result \n",
    "        \n",
    "b = Board()\n",
    "Board.draw_board(b.get_board())"
   ]
  },
  {
   "cell_type": "code",
   "execution_count": 10,
   "metadata": {},
   "outputs": [
    {
     "name": "stdout",
     "output_type": "stream",
     "text": [
      "((7, 0), {(7, 1), (5, 0), (7, 2), (6, 0), (6, 1), (5, 1), (5, 2)}, (0, 7), {(2, 7), (1, 5), (0, 6), (1, 7), (2, 6), (0, 5), (1, 6), (2, 5)}, <Turn.BLACK: 2>)\n",
      "Turn.BLACK\n"
     ]
    },
    {
     "data": {
      "image/png": "[encoded data removed]",
      "text/plain": [
       "<Figure size 432x288 with 1 Axes>"
      ]
     },
     "metadata": {},
     "output_type": "display_data"
    }
   ],
   "source": [
    "b3 =   ((7, 0), {(5, 0), (5, 1), (5, 2), (6, 0), (6, 1), (5, 2), (7, 1), (7, 2)}, (0, 7), {(0, 5), (0, 6), (1, 5), (1, 6), (1, 7), (2, 5), (2, 6), (2, 7)} , Turn.BLACK)\n",
    "\n",
    "b.draw_board(b3)"
   ]
  },
  {
   "cell_type": "code",
   "execution_count": 6,
   "metadata": {},
   "outputs": [
    {
     "name": "stdout",
     "output_type": "stream",
     "text": [
      "((7, 0), frozenset({(7, 2)}), (0, 7), frozenset({(7, 3)}), <Turn.BLACK: 2>)\n",
      "Turn.BLACK\n"
     ]
    },
    {
     "data": {
      "image/png": "[encoded data removed]",
      "text/plain": [
       "<Figure size 432x288 with 1 Axes>"
      ]
     },
     "metadata": {},
     "output_type": "display_data"
    },
    {
     "name": "stdout",
     "output_type": "stream",
     "text": [
      "((7, 0), frozenset(), (0, 7), frozenset({(7, 2)}), <Turn.WHITE: 1>)\n",
      "((7, 0), frozenset(), (0, 7), frozenset({(7, 2)}), <Turn.WHITE: 1>)\n",
      "Turn.WHITE\n"
     ]
    },
    {
     "data": {
      "image/png": "[encoded data removed]",
      "text/plain": [
       "<Figure size 432x288 with 1 Axes>"
      ]
     },
     "metadata": {},
     "output_type": "display_data"
    },
    {
     "name": "stdout",
     "output_type": "stream",
     "text": [
      "((7, 0), frozenset({(7, 2)}), (1, 7), frozenset({(7, 3)}), <Turn.WHITE: 1>)\n",
      "((7, 0), frozenset({(7, 2)}), (1, 7), frozenset({(7, 3)}), <Turn.WHITE: 1>)\n",
      "Turn.WHITE\n"
     ]
    },
    {
     "data": {
      "image/png": "[encoded data removed]",
      "text/plain": [
       "<Figure size 432x288 with 1 Axes>"
      ]
     },
     "metadata": {},
     "output_type": "display_data"
    },
    {
     "name": "stdout",
     "output_type": "stream",
     "text": [
      "((7, 0), frozenset({(7, 2)}), (0, 6), frozenset({(7, 3)}), <Turn.WHITE: 1>)\n",
      "((7, 0), frozenset({(7, 2)}), (0, 6), frozenset({(7, 3)}), <Turn.WHITE: 1>)\n",
      "Turn.WHITE\n"
     ]
    },
    {
     "data": {
      "image/png": "[encoded data removed]",
      "text/plain": [
       "<Figure size 432x288 with 1 Axes>"
      ]
     },
     "metadata": {},
     "output_type": "display_data"
    }
   ],
   "source": [
    "b2 = ((7, 0), frozenset({(7, 2)}), (0, 7), frozenset({(7, 3)}), Turn.BLACK)\n",
    "\n",
    "b.draw_board(b2)\n",
    "\n",
    "# for board in b.next_boards(b2):\n",
    "#     print(board)\n",
    "#     b.draw_board(board)\n"
   ]
  },
  {
   "cell_type": "code",
   "execution_count": 4,
   "metadata": {},
   "outputs": [
    {
     "name": "stdout",
     "output_type": "stream",
     "text": [
      "Black wins: 17242\n",
      "White wins: 17889\n",
      "Draws: 14869\n"
     ]
    }
   ],
   "source": [
    "white_wins = 0\n",
    "black_wins = 0\n",
    "draws = 0\n",
    "    \n",
    "for i in range(50000):\n",
    "    result = b.simulate(b.get_board())\n",
    "    if result == (1,0):\n",
    "        white_wins += 1\n",
    "    elif result == (0,1):\n",
    "        black_wins += 1\n",
    "    else:\n",
    "        draws += 1\n",
    "\n",
    "print(\"Black wins: {}\".format(black_wins))\n",
    "print(\"White wins: {}\".format(white_wins))\n",
    "print(\"Draws: {}\".format(draws))"
   ]
  },
  {
   "cell_type": "code",
   "execution_count": 5,
   "metadata": {},
   "outputs": [],
   "source": [
    "from collections import defaultdict\n",
    "\n",
    "class MCTS:\n",
    "    \n",
    "    def __init__(self, board, sims=200):\n",
    "        self.children = defaultdict(list)\n",
    "        self.Q = defaultdict(int)\n",
    "        self.N = defaultdict(int)\n",
    "        self.board = board\n",
    "        self.sims = sims\n",
    "\n",
    "    def best_move(self, board):\n",
    "        \n",
    "        for _ in range(self.sims):\n",
    "            self.iterate(board)\n",
    "\n",
    "        def score(n):\n",
    "            if self.N[n] == 0:\n",
    "                return float(\"-inf\") \n",
    "            return self.Q[n] / self.N[n]\n",
    "        \n",
    "        return max(self.children[board], key=score)\n",
    "    \n",
    "    def iterate(self, board):\n",
    "         \n",
    "         path = []\n",
    "         \n",
    "         # select\n",
    "         path = self.selection(board)\n",
    "         node = path[-1]\n",
    "\n",
    "         # expand\n",
    "         self.children[node] = self.board.next_boards(node)\n",
    "\n",
    "         # simulate\n",
    "         result = self.board.simulate(node)\n",
    "         \n",
    "         # backpropagate\n",
    "         for step in path:\n",
    "            \n",
    "            self.N[step] +=1\n",
    "\n",
    "            if step[4] == Turn.BLACK:\n",
    "                self.Q[step] += result[0]\n",
    "            else:\n",
    "                self.Q[step] += result[1]\n",
    "    \n",
    "    def selection(self, node):\n",
    "        path = []\n",
    "        while True:\n",
    "            path.append(node)\n",
    "            if node not in self.children or not self.children[node]:\n",
    "                return path\n",
    "            unexplored = self.children[node] - self.children.keys()\n",
    "            if unexplored:\n",
    "                n = unexplored.pop()\n",
    "                path.append(n)\n",
    "                return path\n",
    "            node = self.uct(node)\n",
    "    \n",
    "    def uct(self, node):\n",
    "\n",
    "        log_N = math.log(self.N[node])\n",
    "\n",
    "        def _uct(n):\n",
    "            return self.Q[n] / self.N[n] + math.sqrt(\n",
    "                log_N / self.N[n]\n",
    "            )\n",
    "        return max(self.children[node], key=_uct)\n",
    "        "
   ]
  },
  {
   "cell_type": "code",
   "execution_count": 10,
   "metadata": {},
   "outputs": [
    {
     "ename": "ValueError",
     "evalue": "max() arg is an empty sequence",
     "output_type": "error",
     "traceback": [
      "\u001b[0;31m---------------------------------------------------------------------------\u001b[0m",
      "\u001b[0;31mValueError\u001b[0m                                Traceback (most recent call last)",
      "\u001b[0;32m/tmp/ipykernel_6535/1981139149.py\u001b[0m in \u001b[0;36m<module>\u001b[0;34m\u001b[0m\n\u001b[1;32m     10\u001b[0m         \u001b[0mbest_move\u001b[0m \u001b[0;34m=\u001b[0m \u001b[0mmcts_white\u001b[0m\u001b[0;34m.\u001b[0m\u001b[0mbest_move\u001b[0m\u001b[0;34m(\u001b[0m\u001b[0mbest_move\u001b[0m\u001b[0;34m)\u001b[0m\u001b[0;34m\u001b[0m\u001b[0;34m\u001b[0m\u001b[0m\n\u001b[1;32m     11\u001b[0m     \u001b[0;32melse\u001b[0m\u001b[0;34m:\u001b[0m\u001b[0;34m\u001b[0m\u001b[0;34m\u001b[0m\u001b[0m\n\u001b[0;32m---> 12\u001b[0;31m         \u001b[0mbest_move\u001b[0m \u001b[0;34m=\u001b[0m \u001b[0mmcts_black\u001b[0m\u001b[0;34m.\u001b[0m\u001b[0mbest_move\u001b[0m\u001b[0;34m(\u001b[0m\u001b[0mbest_move\u001b[0m\u001b[0;34m)\u001b[0m\u001b[0;34m\u001b[0m\u001b[0;34m\u001b[0m\u001b[0m\n\u001b[0m\u001b[1;32m     13\u001b[0m \u001b[0;34m\u001b[0m\u001b[0m\n\u001b[1;32m     14\u001b[0m \u001b[0;34m\u001b[0m\u001b[0m\n",
      "\u001b[0;32m/tmp/ipykernel_6535/4082295421.py\u001b[0m in \u001b[0;36mbest_move\u001b[0;34m(self, board)\u001b[0m\n\u001b[1;32m     20\u001b[0m             \u001b[0;32mreturn\u001b[0m \u001b[0mself\u001b[0m\u001b[0;34m.\u001b[0m\u001b[0mQ\u001b[0m\u001b[0;34m[\u001b[0m\u001b[0mn\u001b[0m\u001b[0;34m]\u001b[0m \u001b[0;34m/\u001b[0m \u001b[0mself\u001b[0m\u001b[0;34m.\u001b[0m\u001b[0mN\u001b[0m\u001b[0;34m[\u001b[0m\u001b[0mn\u001b[0m\u001b[0;34m]\u001b[0m\u001b[0;34m\u001b[0m\u001b[0;34m\u001b[0m\u001b[0m\n\u001b[1;32m     21\u001b[0m \u001b[0;34m\u001b[0m\u001b[0m\n\u001b[0;32m---> 22\u001b[0;31m         \u001b[0;32mreturn\u001b[0m \u001b[0mmax\u001b[0m\u001b[0;34m(\u001b[0m\u001b[0mself\u001b[0m\u001b[0;34m.\u001b[0m\u001b[0mchildren\u001b[0m\u001b[0;34m[\u001b[0m\u001b[0mboard\u001b[0m\u001b[0;34m]\u001b[0m\u001b[0;34m,\u001b[0m \u001b[0mkey\u001b[0m\u001b[0;34m=\u001b[0m\u001b[0mscore\u001b[0m\u001b[0;34m)\u001b[0m\u001b[0;34m\u001b[0m\u001b[0;34m\u001b[0m\u001b[0m\n\u001b[0m\u001b[1;32m     23\u001b[0m \u001b[0;34m\u001b[0m\u001b[0m\n\u001b[1;32m     24\u001b[0m     \u001b[0;32mdef\u001b[0m \u001b[0miterate\u001b[0m\u001b[0;34m(\u001b[0m\u001b[0mself\u001b[0m\u001b[0;34m,\u001b[0m \u001b[0mboard\u001b[0m\u001b[0;34m)\u001b[0m\u001b[0;34m:\u001b[0m\u001b[0;34m\u001b[0m\u001b[0;34m\u001b[0m\u001b[0m\n",
      "\u001b[0;31mValueError\u001b[0m: max() arg is an empty sequence"
     ]
    }
   ],
   "source": [
    "b = Board()\n",
    "\n",
    "mcts_white = MCTS(b, sims=5)\n",
    "mcts_black = MCTS(b, sims=100)\n",
    "\n",
    "best_move = b.get_board()\n",
    "\n",
    "while (result := Board.winning_position(best_move)) == (0,0):\n",
    "    if best_move[4] == Turn.WHITE:\n",
    "        best_move = mcts_white.best_move(best_move)\n",
    "    else:\n",
    "        best_move = mcts_black.best_move(best_move)\n",
    "\n",
    "\n",
    "b.draw_board(best_move)"
   ]
  },
  {
   "cell_type": "code",
   "execution_count": 13,
   "metadata": {},
   "outputs": [],
   "source": [
    "board = ((0, 7), frozenset({(0, 4), (5, 7), (0, 6), (1, 7), (4, 1), (4, 7)}), (2, 0), frozenset({(7, 6), (5, 0), (7, 2), (6, 0), (1, 0)}), Turn.BLACK)"
   ]
  },
  {
   "cell_type": "code",
   "execution_count": 11,
   "metadata": {},
   "outputs": [
    {
     "name": "stdout",
     "output_type": "stream",
     "text": [
      "((7, 0), frozenset({(7, 2)}), (0, 7), frozenset({(7, 3)}), <Turn.BLACK: 2>)\n",
      "Turn.BLACK\n"
     ]
    },
    {
     "data": {
      "image/png": "[encoded data removed]",
      "text/plain": [
       "<Figure size 432x288 with 1 Axes>"
      ]
     },
     "metadata": {},
     "output_type": "display_data"
    },
    {
     "name": "stdout",
     "output_type": "stream",
     "text": [
      "next boards\n",
      "((7, 0), frozenset(), (0, 7), frozenset({(7, 2)}), <Turn.WHITE: 1>)\n",
      "Turn.WHITE\n"
     ]
    },
    {
     "data": {
      "image/png": "[encoded data removed]",
      "text/plain": [
       "<Figure size 432x288 with 1 Axes>"
      ]
     },
     "metadata": {},
     "output_type": "display_data"
    },
    {
     "name": "stdout",
     "output_type": "stream",
     "text": [
      "((7, 0), frozenset({(7, 2)}), (1, 7), frozenset({(7, 3)}), <Turn.WHITE: 1>)\n",
      "Turn.WHITE\n"
     ]
    },
    {
     "data": {
      "image/png": "[encoded data removed]",
      "text/plain": [
       "<Figure size 432x288 with 1 Axes>"
      ]
     },
     "metadata": {},
     "output_type": "display_data"
    },
    {
     "name": "stdout",
     "output_type": "stream",
     "text": [
      "((7, 0), frozenset({(7, 2)}), (0, 6), frozenset({(7, 3)}), <Turn.WHITE: 1>)\n",
      "Turn.WHITE\n"
     ]
    },
    {
     "data": {
      "image/png": "[encoded data removed]",
      "text/plain": [
       "<Figure size 432x288 with 1 Axes>"
      ]
     },
     "metadata": {},
     "output_type": "display_data"
    }
   ],
   "source": [
    "example = ((7, 0), frozenset({(7, 2)}), (0, 7), frozenset({(7, 3)}), Turn.BLACK)\n",
    "b.draw_board(example)\n",
    "\n",
    "print('next boards')\n",
    "\n",
    "b = Board()\n",
    "for board in b.next_boards(example):\n",
    "    b.draw_board(board)"
   ]
  },
  {
   "cell_type": "code",
   "execution_count": 10,
   "metadata": {},
   "outputs": [
    {
     "name": "stdout",
     "output_type": "stream",
     "text": [
      "((7, 0), frozenset({(7, 2)}), (0, 7), frozenset({(7, 3)}), <Turn.WHITE: 1>)\n",
      "Turn.WHITE\n"
     ]
    },
    {
     "data": {
      "image/png": "[encoded data removed]",
      "text/plain": [
       "<Figure size 432x288 with 1 Axes>"
      ]
     },
     "metadata": {},
     "output_type": "display_data"
    },
    {
     "name": "stdout",
     "output_type": "stream",
     "text": [
      "next boards\n",
      "((7, 0), frozenset({(6, 2)}), (0, 7), frozenset({(7, 3)}), <Turn.BLACK: 2>)\n",
      "Turn.BLACK\n"
     ]
    },
    {
     "data": {
      "image/png": "[encoded data removed]",
      "text/plain": [
       "<Figure size 432x288 with 1 Axes>"
      ]
     },
     "metadata": {},
     "output_type": "display_data"
    },
    {
     "name": "stdout",
     "output_type": "stream",
     "text": [
      "((7, 0), frozenset({(7, 3)}), (0, 7), frozenset(), <Turn.BLACK: 2>)\n",
      "Turn.BLACK\n"
     ]
    },
    {
     "data": {
      "image/png": "[encoded data removed]",
      "text/plain": [
       "<Figure size 432x288 with 1 Axes>"
      ]
     },
     "metadata": {},
     "output_type": "display_data"
    },
    {
     "name": "stdout",
     "output_type": "stream",
     "text": [
      "((6, 0), frozenset({(7, 2)}), (0, 7), frozenset({(7, 3)}), <Turn.BLACK: 2>)\n",
      "Turn.BLACK\n"
     ]
    },
    {
     "data": {
      "image/png": "[encoded data removed]",
      "text/plain": [
       "<Figure size 432x288 with 1 Axes>"
      ]
     },
     "metadata": {},
     "output_type": "display_data"
    },
    {
     "name": "stdout",
     "output_type": "stream",
     "text": [
      "((7, 1), frozenset({(7, 2)}), (0, 7), frozenset({(7, 3)}), <Turn.BLACK: 2>)\n",
      "Turn.BLACK\n"
     ]
    },
    {
     "data": {
      "image/png": "[encoded data removed]",
      "text/plain": [
       "<Figure size 432x288 with 1 Axes>"
      ]
     },
     "metadata": {},
     "output_type": "display_data"
    }
   ],
   "source": [
    "example = ((7, 0), frozenset({(7, 2)}), (0, 7), frozenset({(7, 3)}), Turn.WHITE)\n",
    "b.draw_board(example)\n",
    "\n",
    "print('next boards')\n",
    "\n",
    "b = Board()\n",
    "for board in b.next_boards(example):\n",
    "    b.draw_board(board)"
   ]
  },
  {
   "cell_type": "code",
   "execution_count": 5,
   "metadata": {},
   "outputs": [],
   "source": [
    "board = ((6, 4), frozenset({(1, 4), (0, 6), (1, 7), (1, 6), (1, 3), (3, 5)}), (5, 0), frozenset({(7, 1), (7, 2), (6, 0)}), Turn.BLACK)"
   ]
  },
  {
   "cell_type": "code",
   "execution_count": 8,
   "metadata": {},
   "outputs": [],
   "source": [
    "b = Board()\n",
    "#Board.draw_board(b.get_board())"
   ]
  },
  {
   "cell_type": "code",
   "execution_count": 27,
   "metadata": {},
   "outputs": [
    {
     "name": "stdout",
     "output_type": "stream",
     "text": [
      "((6, 4), frozenset({(1, 7), (1, 6), (1, 3), (3, 5), (1, 4), (0, 6)}), (5, 0), frozenset({(7, 1), (7, 2), (6, 0)}), <Turn.BLACK: 2>)\n",
      "Turn.BLACK\n"
     ]
    },
    {
     "data": {
      "image/png": "[encoded data removed]",
      "text/plain": [
       "<Figure size 432x288 with 1 Axes>"
      ]
     },
     "metadata": {},
     "output_type": "display_data"
    },
    {
     "name": "stdout",
     "output_type": "stream",
     "text": [
      "((6, 4), frozenset({(1, 7), (1, 6), (1, 3), (3, 5), (1, 4), (0, 6)}), (5, 0), frozenset({(7, 1), (7, 2), (6, 0)}), <Turn.BLACK: 2>)\n",
      "Turn.BLACK\n"
     ]
    },
    {
     "data": {
      "image/png": "[encoded data removed]",
      "text/plain": [
       "<Figure size 432x288 with 1 Axes>"
      ]
     },
     "metadata": {},
     "output_type": "display_data"
    },
    {
     "name": "stdout",
     "output_type": "stream",
     "text": [
      "((6, 4), frozenset({(1, 7), (1, 6), (1, 3), (3, 5), (1, 4), (0, 6)}), (5, 0), frozenset({(7, 1), (7, 2), (6, 0)}), <Turn.BLACK: 2>)\n",
      "Turn.BLACK\n"
     ]
    },
    {
     "data": {
      "image/png": "[encoded data removed]",
      "text/plain": [
       "<Figure size 432x288 with 1 Axes>"
      ]
     },
     "metadata": {},
     "output_type": "display_data"
    },
    {
     "name": "stdout",
     "output_type": "stream",
     "text": [
      "((6, 4), frozenset({(1, 7), (1, 6), (1, 3), (3, 5), (1, 4), (0, 6)}), (5, 0), frozenset({(7, 1), (7, 2), (6, 0)}), <Turn.BLACK: 2>)\n",
      "Turn.BLACK\n"
     ]
    },
    {
     "data": {
      "image/png": "[encoded data removed]",
      "text/plain": [
       "<Figure size 432x288 with 1 Axes>"
      ]
     },
     "metadata": {},
     "output_type": "display_data"
    },
    {
     "name": "stdout",
     "output_type": "stream",
     "text": [
      "((6, 4), frozenset({(1, 7), (1, 6), (1, 3), (3, 5), (1, 4), (0, 6)}), (5, 0), frozenset({(7, 1), (7, 2), (6, 0)}), <Turn.BLACK: 2>)\n",
      "Turn.BLACK\n"
     ]
    },
    {
     "data": {
      "image/png": "[encoded data removed]",
      "text/plain": [
       "<Figure size 432x288 with 1 Axes>"
      ]
     },
     "metadata": {},
     "output_type": "display_data"
    },
    {
     "name": "stdout",
     "output_type": "stream",
     "text": [
      "((6, 4), frozenset({(1, 7), (1, 6), (1, 3), (3, 5), (1, 4), (0, 6)}), (5, 0), frozenset({(7, 1), (7, 2), (6, 0)}), <Turn.BLACK: 2>)\n",
      "Turn.BLACK\n"
     ]
    },
    {
     "data": {
      "image/png": "[encoded data removed]",
      "text/plain": [
       "<Figure size 432x288 with 1 Axes>"
      ]
     },
     "metadata": {},
     "output_type": "display_data"
    },
    {
     "name": "stdout",
     "output_type": "stream",
     "text": [
      "((6, 4), frozenset({(1, 7), (1, 6), (1, 3), (3, 5), (1, 4), (0, 6)}), (5, 0), frozenset({(7, 1), (7, 2), (6, 0)}), <Turn.BLACK: 2>)\n",
      "Turn.BLACK\n"
     ]
    },
    {
     "data": {
      "image/png": "[encoded data removed]",
      "text/plain": [
       "<Figure size 432x288 with 1 Axes>"
      ]
     },
     "metadata": {},
     "output_type": "display_data"
    },
    {
     "name": "stdout",
     "output_type": "stream",
     "text": [
      "((6, 4), frozenset({(1, 7), (1, 6), (1, 3), (3, 5), (1, 4), (0, 6)}), (5, 0), frozenset({(7, 1), (7, 2), (6, 0)}), <Turn.BLACK: 2>)\n",
      "Turn.BLACK\n"
     ]
    },
    {
     "data": {
      "image/png": "[encoded data removed]",
      "text/plain": [
       "<Figure size 432x288 with 1 Axes>"
      ]
     },
     "metadata": {},
     "output_type": "display_data"
    },
    {
     "name": "stdout",
     "output_type": "stream",
     "text": [
      "((6, 4), frozenset({(1, 7), (1, 6), (1, 3), (3, 5), (1, 4), (0, 6)}), (7, 0), frozenset({(7, 1), (7, 2), (6, 0)}), <Turn.WHITE: 1>)\n",
      "Turn.WHITE\n"
     ]
    },
    {
     "data": {
      "image/png": "[encoded data removed]",
      "text/plain": [
       "<Figure size 432x288 with 1 Axes>"
      ]
     },
     "metadata": {},
     "output_type": "display_data"
    },
    {
     "name": "stdout",
     "output_type": "stream",
     "text": [
      "((6, 4), frozenset({(1, 7), (1, 6), (1, 3), (3, 5), (1, 4), (0, 6)}), (7, 0), frozenset({(7, 1), (7, 2), (6, 0)}), <Turn.WHITE: 1>)\n",
      "Turn.WHITE\n"
     ]
    },
    {
     "data": {
      "image/png": "[encoded data removed]",
      "text/plain": [
       "<Figure size 432x288 with 1 Axes>"
      ]
     },
     "metadata": {},
     "output_type": "display_data"
    }
   ],
   "source": [
    "board = ((6, 4), frozenset({(1, 4), (0, 6), (1, 7), (1, 6), (1, 3), (3, 5)}), (5, 0), frozenset({(7, 1), (7, 2), (6, 0)}), Turn.BLACK)\n",
    "\n",
    "b = Board()\n",
    "\n",
    "mcts = MCTS(b, sims=10)\n",
    "best_move = board\n",
    "\n",
    "while (result := Board.winning_position(best_move)) == (0,0):\n",
    "    best_move = mcts.best_move(best_move)\n",
    "    b.draw_board(best_move)"
   ]
  }
 ],
 "metadata": {
  "kernelspec": {
   "display_name": "Python 3",
   "language": "python",
   "name": "python3"
  },
  "language_info": {
   "codemirror_mode": {
    "name": "ipython",
    "version": 3
   },
   "file_extension": ".py",
   "mimetype": "text/x-python",
   "name": "python",
   "nbconvert_exporter": "python",
   "pygments_lexer": "ipython3",
   "version": "3.9.2"
  },
  "vscode": {
   "interpreter": {
    "hash": "31f2aee4e71d21fbe5cf8b01ff0e069b9275f58929596ceb00d14d90e3e16cd6"
   }
  }
 },
 "nbformat": 4,
 "nbformat_minor": 4
}
